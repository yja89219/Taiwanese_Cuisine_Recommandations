{
 "cells": [
  {
   "cell_type": "code",
   "execution_count": 1,
   "metadata": {},
   "outputs": [],
   "source": [
    "'''\n",
    "Credits for CodingMan\n",
    "https://dotblogs.com.tw/codinghouse/2018/10/22/pttcrawler\n",
    "\n",
    "PTT is the largest Bulletin Board System in Taiwan\n",
    "https://term.ptt.cc\n",
    "\n",
    "Open terminal to install PTTLibrary: \"pip install PTTLibrary\"\n",
    "\n",
    "The following codes use the PTTLibrary library to crawl the data from the PTT's Food forum,\n",
    "and export the result as a .CSV format file.\n",
    "'''\n",
    "#Read the PTT Food Board and write it into a .CSV file.\n",
    "\n",
    "import sys\n",
    "import csv\n",
    "import getpass\n",
    "import codecs\n",
    "from PTTLibrary import PTT\n",
    "\n",
    "\n",
    "def writeToCSVFile(Post):       \n",
    "    with open('PTT_food01.csv', mode='a', encoding='utf-8') as f:\n",
    "        ptt_food = csv.writer(f, delimiter=',', quotechar='\"', quoting=csv.QUOTE_MINIMAL)\n",
    "        ptt_food.writerow([Post.getID(), Post.getAuthor(), Post.getTitle(), Post.getDate(), Post.getIP(), Post.getWebUrl(), Post.getContent()])\n",
    "        "
   ]
  },
  {
   "cell_type": "code",
   "execution_count": 2,
   "metadata": {},
   "outputs": [
    {
     "name": "stdout",
     "output_type": "stream",
     "text": [
      "請輸入帳號: randy22255\n",
      "請輸入密碼: ········\n",
      "[04-05 20:13:17][資訊] 偵測到前景執行使用編碼: UTF-8\n",
      "[04-05 20:13:17][資訊] 產生 SSH 金鑰完成\n",
      "[04-05 20:13:17][資訊] 使用者帳號: randy22255\n",
      "[04-05 20:13:17][資訊] 密碼: **********\n",
      "[04-05 20:13:17][資訊] 連線頻道 0 啟動\n",
      "[04-05 20:13:17][資訊] 頻道 0 建立互動通道成功\n",
      "[04-05 20:13:17][資訊] 頻道 0 輸入帳號\n",
      "[04-05 20:13:17][資訊] 頻道 0 輸入密碼\n",
      "[04-05 20:13:17][資訊] 頻道 0 讀取 PTT 畫面..\n",
      "[04-05 20:13:18][資訊] 不刪除重複登入的連線\n",
      "[04-05 20:13:20][資訊] 任意鍵繼續\n",
      "[04-05 20:13:20][資訊] 頻道 0 登入成功\n"
     ]
    }
   ],
   "source": [
    "#Loggin\n",
    "\n",
    "try:\n",
    "    with open('Account.txt') as AccountFile:\n",
    "        Account = json.load(AccountFile)\n",
    "        ID = Account['ID']\n",
    "        Password = Account['Password']\n",
    "except FileNotFoundError:\n",
    "    ID = input('請輸入帳號: ')\n",
    "    Password = getpass.getpass('請輸入密碼: ')\n",
    "\n",
    "# 如果不想在登入的時候踢掉其他登入，你可以這樣使用\n",
    "PTTBot = PTT.Library(kickOtherLogin=False)\n",
    "# 登入\n",
    "ErrCode = PTTBot.login(ID, Password)\n",
    "# 使用錯誤碼，判斷登入是否成功\n",
    "if ErrCode != PTT.ErrorCode.Success:\n",
    "    PTTBot.Log('登入失敗')\n",
    "    sys.exit()"
   ]
  },
  {
   "cell_type": "code",
   "execution_count": 3,
   "metadata": {},
   "outputs": [
    {
     "name": "stdout",
     "output_type": "stream",
     "text": [
      "[04-05 20:13:23][資訊] 取得 Food 板最新文章編號成功: 140133\n",
      "[04-05 20:13:24][資訊] 總爬行文章: 100 篇\n",
      "[04-05 20:13:24][資訊] 連線頻道 0 Food 爬行 140034 140134\n"
     ]
    },
    {
     "name": "stderr",
     "output_type": "stream",
     "text": [
      "100% (100 of 100) |######################| Elapsed Time: 0:00:41 Time:  0:00:41\n"
     ]
    },
    {
     "name": "stdout",
     "output_type": "stream",
     "text": [
      "[04-05 20:14:05][資訊] 爬行成功共 100 篇文章 共有 0 篇文章被刪除\n"
     ]
    }
   ],
   "source": [
    "# Start crawling the articles\n",
    "\n",
    "CrawPost = 100\n",
    "\n",
    "EnableSearchCondition = False\n",
    "inputSearchType = PTT.PostSearchType.Keyword\n",
    "inputSearch = ''\n",
    "\n",
    "\n",
    "# writeToJSONFile(path,Post,data)\n",
    "\n",
    "if EnableSearchCondition:\n",
    "    ErrCode, NewestIndex = PTTBot.getNewestIndex(Board='Food', SearchType=inputSearchType, Search=inputSearch)\n",
    "else:\n",
    "    ErrCode, NewestIndex = PTTBot.getNewestIndex(Board='Food')\n",
    "\n",
    "if ErrCode == PTT.ErrorCode.Success:\n",
    "    PTTBot.Log('取得 ' + 'Food' + ' 板最新文章編號成功: ' + str(NewestIndex))\n",
    "else:\n",
    "    PTTBot.Log('取得 ' + 'Food' + ' 板最新文章編號失敗')\n",
    "    sys.exit()\n",
    "\n",
    "# MaxMultiLogin             多重登入數量\n",
    "# SearchType                搜尋種類\n",
    "# Search                    搜尋條件\n",
    "\n",
    "if EnableSearchCondition:\n",
    "    ErrCode, SuccessCount, DeleteCount = PTTBot.crawlBoard('Food', writeToCSVFile, StartIndex=NewestIndex - CrawPost + 1, EndIndex=NewestIndex, SearchType=inputSearchType, Search=inputSearch)\n",
    "else:\n",
    "    ErrCode, SuccessCount, DeleteCount = PTTBot.crawlBoard('Food', writeToCSVFile, StartIndex=NewestIndex - CrawPost + 1, EndIndex=NewestIndex)\n",
    "\n",
    "if ErrCode == PTT.ErrorCode.Success:\n",
    "    PTTBot.Log('爬行成功共 ' + str(SuccessCount) + ' 篇文章 共有 ' + str(DeleteCount) + ' 篇文章被刪除')"
   ]
  },
  {
   "cell_type": "code",
   "execution_count": 4,
   "metadata": {},
   "outputs": [
    {
     "name": "stdout",
     "output_type": "stream",
     "text": [
      "[04-05 20:14:12][資訊] 準備登出所有頻道\n"
     ]
    },
    {
     "data": {
      "text/plain": [
       "0"
      ]
     },
     "execution_count": 4,
     "metadata": {},
     "output_type": "execute_result"
    }
   ],
   "source": [
    "# 登出\n",
    "PTTBot.logout()"
   ]
  },
  {
   "cell_type": "code",
   "execution_count": null,
   "metadata": {},
   "outputs": [],
   "source": []
  }
 ],
 "metadata": {
  "kernelspec": {
   "display_name": "Python 3",
   "language": "python",
   "name": "python3"
  },
  "language_info": {
   "codemirror_mode": {
    "name": "ipython",
    "version": 3
   },
   "file_extension": ".py",
   "mimetype": "text/x-python",
   "name": "python",
   "nbconvert_exporter": "python",
   "pygments_lexer": "ipython3",
   "version": "3.7.1"
  }
 },
 "nbformat": 4,
 "nbformat_minor": 2
}
